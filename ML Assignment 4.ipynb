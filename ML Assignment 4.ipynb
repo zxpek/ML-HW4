{
 "cells": [
  {
   "cell_type": "markdown",
   "metadata": {},
   "source": [
    "# Machine Learning\n",
    "## Group 4\n",
    "## Assignment 4\n",
    "## K-means clustering\n"
   ]
  },
  {
   "cell_type": "markdown",
   "metadata": {},
   "source": [
    "## 2. Web scraping"
   ]
  },
  {
   "cell_type": "code",
   "execution_count": 3,
   "metadata": {
    "collapsed": false
   },
   "outputs": [],
   "source": [
    "import pandas as pd\n",
    "from bs4 import BeautifulSoup\n",
    "import requests\n",
    "import re\n",
    "import unicodedata\n",
    "\n",
    "from sklearn.cluster import KMeans\n",
    "import numpy as np"
   ]
  },
  {
   "cell_type": "code",
   "execution_count": 4,
   "metadata": {
    "collapsed": false
   },
   "outputs": [],
   "source": [
    "attributes = ['Crossing', 'Finishing', 'Heading Accuracy', 'Short Passing', 'Volleys', 'Dribbling', 'Curve', 'Free Kick Accuracy',\n",
    "              'Long Passing','Ball Control', 'Acceleration', 'Sprint Speed', 'Agility', 'Reactions', 'Balance', 'Shot Power','Jumping',\n",
    "              'Stamina', 'Strength','Long Shots','Aggression','Interceptions','Positioning','Vision','Penalties','Composure','Marking',\n",
    "              'Standing Tackle','Sliding Tackle','GK Diving','GK Handling', 'GK Kicking','GK Positioning','GK Reflexes']\n",
    "\n",
    "              \n",
    "links = []\n",
    "for offset in ['0','100','200']:\n",
    "    page = requests.get('http://sofifa.com/players?na=52&offset=' + offset)\n",
    "    soup = BeautifulSoup(page.content,'html.parser')\n",
    "    for link in soup.find_all('a'):\n",
    "        links.append(link.get('href'))\n",
    "           \n",
    "links = ['http://sofifa.com' + l for l in links if 'player/' in l]\n",
    "\n",
    "pattern = r\"\"\"\\s*([\\w\\s]*)\"\"\"\n",
    "\n",
    "for attr in attributes:\n",
    "    pattern += r\"\"\".*?(\\d*\\s*\"\"\"+attr+r\"\"\")\"\"\" #Attribute variables\n",
    "    \n",
    "pat = re.compile(pattern, re.DOTALL)\n",
    "\n",
    "rows = []\n",
    "for j,link in enumerate(links):\n",
    "    row = [link]\n",
    "    playerpage = requests.get(link)\n",
    "    playersoup = BeautifulSoup(playerpage.content, 'html.parser')\n",
    "    text = playersoup.get_text()\n",
    "    a = pat.match(text)\n",
    "    row.append(a.group(1))\n",
    "    for i in range(2,len(attributes)+2):\n",
    "        row.append(int(a.group(i).split()[0]))\n",
    "    rows.append(row)\n",
    "df = pd.DataFrame(rows,columns =['link','name'] + attributes)\n",
    "df.to_csv('ArgentinaPlayers.csv',index=False)"
   ]
  },
  {
   "cell_type": "markdown",
   "metadata": {},
   "source": [
    "The code above scrapes the FIFA attributes for the top 300 Argentinian players on the sofifa.com website.\n",
    "\n",
    "The code starts by defining each of the 34 attributes that characterize each player in the FIFA game. These attributes range from Passing and Dribbling to Tackling and Strength. Each player in the game is represented by a combination of the above attributes.\n",
    "\n",
    "We then wish to store the links to the top 300 rated players for a specific country. The website stores the players groups of 100s. For each group of 100 players, we request all of the html content on the page. The html content on the page that links to each specific player contains a string \"a\" which is the HTML tag. For each of the \"a\" tags, we append to the links list the html's href tag. The href tag may contains the player's unique ID identifier. For example, Leonel Messi's player ID is 158023. We filter the href tags to only contain those that have the string \"player\" in them. These tags correspond to each player's personal page which will list their attributes. \n",
    "\n",
    "For each string that contains a player, we create a URL with the link to that player's page by concatenating the href tag with http://sofifa.com. By accessing the concatenated URL, we can scrape each player's game attribues. We can do this by noticing that the attributes are embedded in a specific Regular Express (regex) style.  Through the specific regex, we can extract the player's attributes because they all follow a specific pattern. The first part of the regex extracts the player's name, and the subsequent parts correspond to the regex to identify where the attributes are located in the HTML file.\n",
    "\n",
    "We iterate through each of the player links we created prior. For each link, we parse through the resulting html file using the BeautifulSoup function. By using the get_text() function, we extract only the text elements of the web page. Finally, from the resulting text, we match the regex pattern we defined earlier to extract the portions of the text that follow the regex. By extracting the regex style expressions from the text, we have each player's attributes in the first portion of the regex. We append each attribute to the player's data. \n",
    "\n",
    "Because many of our players have non English names, their names may contain characters that are not ASCII. The larger subset of characters, called Unicode, needs to be displayed properly when extracting the player's name. Fortunately the HTML and the beautiful soup package support Unicode characters through the get_text and html.parser functions. Therefore, when we extract the player names, they are already in the proper Unicode format and we have to make no further changes. \n",
    "\n",
    "Finally, we have each player's attributes as a list inside a list with all of the player data. We convert the list into a pandas dataframe with each player as a row. The columns are the player's URL to access the data, the player's name, and then all of the attributes defined at the start. We will use this dataframe as a way to cluster our players because the input into the kMeans function can be a pandas dataframe. Finally, we output the resulting data into a csv file."
   ]
  },
  {
   "cell_type": "markdown",
   "metadata": {},
   "source": [
    "## 3. 500 English players\n",
    "\n",
    "To download the first 500 English players instead of the first 300 Argentinian players, we need to modify the code in two places. \n",
    "\n",
    "First we need to modify the code to parse players from a different country. As we noticed above, Argentina's country code on the sofifa.com website is na=52. We change this value to na=14, which corresponds to England's players. \n",
    "\n",
    "We also need to modify the number of players parsed, from 300 to 500. This is done by modifying the first for loop into the code. We change the list of the offset from ['0','100','200'] to ['0','100','200','300','400']. This adds 2 more pages of 100 players for the code to search through. The code returns the data for the first 500 English players with these two modifications.\n",
    "\n",
    "The new code is shown below.\n"
   ]
  },
  {
   "cell_type": "code",
   "execution_count": 5,
   "metadata": {
    "collapsed": false
   },
   "outputs": [],
   "source": [
    "## NEW CODE IS THIS FOR LOOP!\n",
    "# for offset in ['0','100','200','300','400']:\n",
    "#    page = requests.get('http://sofifa.com/players?na=14&offset=' + offset)\n",
    "#    soup = BeautifulSoup(page.content,'html.parser')\n",
    "#    for link in soup.find_all('a'):\n",
    "#        links.append(link.get('href'))\n"
   ]
  },
  {
   "cell_type": "markdown",
   "metadata": {},
   "source": [
    "## 4. Training the model"
   ]
  },
  {
   "cell_type": "code",
   "execution_count": 6,
   "metadata": {
    "collapsed": false
   },
   "outputs": [],
   "source": [
    "#Drop link and name from variables to train on\n",
    "dfX = df.drop(['link','name'],axis=1)\n",
    "\n",
    "#Train the model\n",
    "football = KMeans(n_clusters=5,random_state=12345).fit(dfX)"
   ]
  },
  {
   "cell_type": "markdown",
   "metadata": {},
   "source": [
    "## 5. Labelling the clusters"
   ]
  },
  {
   "cell_type": "code",
   "execution_count": 7,
   "metadata": {
    "collapsed": false
   },
   "outputs": [],
   "source": [
    "labels = football.labels_\n",
    "\n",
    "#Extracting players into their respective clusters\n",
    "c1 = df.ix[labels==0,]\n",
    "c2 = df.ix[labels==1,]\n",
    "c3 = df.ix[labels==2,]\n",
    "c4 = df.ix[labels==3,]\n",
    "c5 = df.ix[labels==4,]"
   ]
  },
  {
   "cell_type": "markdown",
   "metadata": {},
   "source": [
    "### Forward Cluster [1]"
   ]
  },
  {
   "cell_type": "code",
   "execution_count": 8,
   "metadata": {
    "collapsed": false,
    "scrolled": true
   },
   "outputs": [
    {
     "name": "stdout",
     "output_type": "stream",
     "text": [
      "0                 Lionel Messi \n",
      "2                Sergio Agüero \n",
      "3               Ángel Di María \n",
      "4                 Paulo Dybala \n",
      "5               Nicolás Gaitán \n",
      "10              Javier Pastore \n",
      "20                 Erik Lamela \n",
      "21             Alejandro Gómez \n",
      "23               Diego Perotti \n",
      "26          Fernando Belluschi \n",
      "28              Eduardo Salvio \n",
      "31              Manuel Lanzini \n",
      "33              Luciano Vietto \n",
      "34               Pablo Batalla \n",
      "35              Lisandro López \n",
      "38             Rodrigo Palacio \n",
      "39                Ángel Correa \n",
      "40              Ignacio Piatti \n",
      "42                   José Sosa \n",
      "50                Diego Valeri \n",
      "51                Pablo Piatti \n",
      "56            Diego Buonanotte \n",
      "58          Rogelio Funes Mori \n",
      "60             Pablo De Blasis \n",
      "71                Franco Cervi \n",
      "72                Mauro Zárate \n",
      "73              Lautaro Acosta \n",
      "74            Sebastián Blanco \n",
      "79                 Ismael Sosa \n",
      "80       Alexander Szymanowski \n",
      "                 ...           \n",
      "182             Javier Morales \n",
      "196               Ricardo Noir \n",
      "199             Ignacio Scocco \n",
      "201    Luis Gonzalo Bustamante \n",
      "209             Gabriel Hauche \n",
      "212            Fabián Sambueza \n",
      "213           Pablo Barrientos \n",
      "219               Lucas Janson \n",
      "220            Daniel Villalva \n",
      "222            Hernán Hechalar \n",
      "228              Hernán Toledo \n",
      "230          Juan Sánchez Miño \n",
      "234           Federico Carrizo \n",
      "240               Martín Rolle \n",
      "243             Gervasio Núñez \n",
      "244                 Omar Pérez \n",
      "249              Gonzalo Verón \n",
      "251     Cristian Omar Espinoza \n",
      "253        José Luis Fernández \n",
      "254           Nicolás Martínez \n",
      "258              Mauro Formica \n",
      "265              Rodrigo Gómez \n",
      "266             Claudio Aquino \n",
      "273            Ramón Fernández \n",
      "277             Walter Montoya \n",
      "285              Matías Pisano \n",
      "290            Brian Fernández \n",
      "293              Carlos Auzqui \n",
      "297            Leonardo Suárez \n",
      "299            Facundo Pereyra \n",
      "Name: name, dtype: object\n"
     ]
    }
   ],
   "source": [
    "print(c1['name'])"
   ]
  },
  {
   "cell_type": "code",
   "execution_count": 9,
   "metadata": {
    "collapsed": false,
    "scrolled": true
   },
   "outputs": [
    {
     "data": {
      "text/plain": [
       "Crossing              12.911498\n",
       "Finishing             15.745243\n",
       "Heading Accuracy      -3.512472\n",
       "Short Passing          8.004345\n",
       "Volleys               14.867790\n",
       "Dribbling             15.532022\n",
       "Curve                 16.058727\n",
       "Free Kick Accuracy    15.553596\n",
       "Long Passing           7.585730\n",
       "Ball Control          10.623970\n",
       "Acceleration          12.313296\n",
       "Sprint Speed          10.454494\n",
       "Agility               13.962022\n",
       "Reactions              0.845281\n",
       "Balance               13.356592\n",
       "Shot Power             9.046929\n",
       "Jumping               -3.107341\n",
       "Stamina                3.432285\n",
       "Strength             -10.386779\n",
       "Long Shots            14.941798\n",
       "Aggression            -6.055880\n",
       "Interceptions        -12.408801\n",
       "Positioning           13.590936\n",
       "Vision                12.304457\n",
       "Penalties              9.480000\n",
       "Composure              3.581910\n",
       "Marking              -15.601573\n",
       "Standing Tackle      -14.024345\n",
       "Sliding Tackle       -14.206292\n",
       "GK Diving             -5.485506\n",
       "GK Handling           -5.547566\n",
       "GK Kicking            -5.131386\n",
       "GK Positioning        -5.765880\n",
       "GK Reflexes           -5.668427\n",
       "dtype: float64"
      ]
     },
     "execution_count": 9,
     "metadata": {},
     "output_type": "execute_result"
    }
   ],
   "source": [
    "c1.mean()-dfX.mean()"
   ]
  },
  {
   "cell_type": "markdown",
   "metadata": {},
   "source": [
    "Players in this cluster have particularly high Finishing, Curve and Free Kick Accuracy scores in addition to high Vision, Dribbling and Long Shots compared to the other Argentinian players in the dataset. Based on this and the player profiles within the cluster,it is likely that the cluster contains offensive players in the centre forward position."
   ]
  },
  {
   "cell_type": "markdown",
   "metadata": {},
   "source": [
    "### Goalkeeper Cluster [2]"
   ]
  },
  {
   "cell_type": "code",
   "execution_count": 10,
   "metadata": {
    "collapsed": false,
    "scrolled": true
   },
   "outputs": [
    {
     "name": "stdout",
     "output_type": "stream",
     "text": [
      "11           Gerónimo Rulli \n",
      "32            Sergio Romero \n",
      "37         Marcelo Barovero \n",
      "43            Nahuel Guzmán \n",
      "44          Willy Caballero \n",
      "53        Sebastián Torrico \n",
      "54        Agustín Marchesín \n",
      "64          Mariano Andújar \n",
      "67            Franco Armani \n",
      "83            Agustín Orión \n",
      "106         Mariano Barbosa \n",
      "109        Fernando Monetti \n",
      "124              Germán Lux \n",
      "127         Albano Bizzarri \n",
      "148      Juan Pablo Carrizo \n",
      "163    Cristian Campestrini \n",
      "175          Guillermo Sara \n",
      "184        Luciano Pocrnjic \n",
      "193             Rodrigo Rey \n",
      "205             Marcos Díaz \n",
      "217           Javier García \n",
      "231             Jorge Broun \n",
      "237            Oscar Ustari \n",
      "246          Julián Speroni \n",
      "255            Luis Ardente \n",
      "270       Leandro Fernández \n",
      "292         Nereo Fernández \n",
      "Name: name, dtype: object\n"
     ]
    }
   ],
   "source": [
    "print(c2['name'])"
   ]
  },
  {
   "cell_type": "code",
   "execution_count": 11,
   "metadata": {
    "collapsed": false,
    "scrolled": true
   },
   "outputs": [
    {
     "data": {
      "text/plain": [
       "Crossing             -40.964074\n",
       "Finishing            -40.171111\n",
       "Heading Accuracy     -46.638148\n",
       "Short Passing        -40.445926\n",
       "Volleys              -38.381481\n",
       "Dribbling            -47.924074\n",
       "Curve                -42.515556\n",
       "Free Kick Accuracy   -37.310741\n",
       "Long Passing         -37.459630\n",
       "Ball Control         -47.385185\n",
       "Acceleration         -26.272222\n",
       "Sprint Speed         -25.690741\n",
       "Agility              -21.531111\n",
       "Reactions             -0.485556\n",
       "Balance              -19.184815\n",
       "Shot Power           -44.891481\n",
       "Jumping               -7.757778\n",
       "Stamina              -34.740000\n",
       "Strength              -3.032222\n",
       "Long Shots           -44.434815\n",
       "Aggression           -33.537778\n",
       "Interceptions        -31.672222\n",
       "Positioning          -45.104444\n",
       "Vision               -15.981852\n",
       "Penalties            -32.223704\n",
       "Composure            -23.852963\n",
       "Marking              -33.045185\n",
       "Standing Tackle      -36.981481\n",
       "Sliding Tackle       -33.795556\n",
       "GK Diving             56.813704\n",
       "GK Handling           53.955556\n",
       "GK Kicking            53.611852\n",
       "GK Positioning        56.567037\n",
       "GK Reflexes           58.293704\n",
       "dtype: float64"
      ]
     },
     "execution_count": 11,
     "metadata": {},
     "output_type": "execute_result"
    }
   ],
   "source": [
    "c2.mean()-dfX.mean()"
   ]
  },
  {
   "cell_type": "markdown",
   "metadata": {},
   "source": [
    "Players in this cluster have very high average value in the GK parameters. This cluster is likely to be a cluster of Goalkeepers."
   ]
  },
  {
   "cell_type": "markdown",
   "metadata": {},
   "source": [
    "### Center Defensive Midfield Cluster [3]"
   ]
  },
  {
   "cell_type": "code",
   "execution_count": 12,
   "metadata": {
    "collapsed": false,
    "scrolled": true
   },
   "outputs": [
    {
     "name": "stdout",
     "output_type": "stream",
     "text": [
      "6           Nicolás Otamendi \n",
      "7                Éver Banega \n",
      "8          Javier Mascherano \n",
      "12               Marcos Rojo \n",
      "13           Mateo Musacchio \n",
      "15            Ezequiel Garay \n",
      "16            Pablo Zabaleta \n",
      "17              Lucas Biglia \n",
      "18         Augusto Fernández \n",
      "19           Roberto Pereyra \n",
      "22             Claudio Yacob \n",
      "27          Cristian Ansaldi \n",
      "36            Nicolás Pareja \n",
      "47             Guido Pizarro \n",
      "48              Marcos Acuña \n",
      "49                Enzo Pérez \n",
      "57             David Abraham \n",
      "65               Pablo Pérez \n",
      "68              Lucas Castro \n",
      "70           Leandro Paredes \n",
      "75         Esteban Cambiasso \n",
      "76              Gino Peruzzi \n",
      "77             Fernando Gago \n",
      "81         Facundo Roncaglia \n",
      "82              Emmanuel Mas \n",
      "84        Matías Kranevitter \n",
      "87               Óscar Trejo \n",
      "89         Ramiro Funes Mori \n",
      "90         Gonzalo Escalante \n",
      "96           Leonardo Ponzio \n",
      "                ...          \n",
      "206            Rodrigo Braña \n",
      "210            Emanuel Insúa \n",
      "216             Juan Mercier \n",
      "218              Jorge Ortiz \n",
      "223            Valentin Vada \n",
      "226    Maximiliano Velázquez \n",
      "227             Damián Musto \n",
      "229             Andrés Cubas \n",
      "232          Nicolás Domingo \n",
      "233      Sebastián Dubarbier \n",
      "235             Hernán Grana \n",
      "241           Jonathan Silva \n",
      "247             Marcelo Meli \n",
      "248         Nicolás Gorosito \n",
      "250        Alejandro Faurlín \n",
      "252          Matías Fritzler \n",
      "256       Cristian Pellerano \n",
      "259           Fabián Rinaudo \n",
      "261              Iván Pillud \n",
      "263            Pablo Álvarez \n",
      "264          Francisco Cerro \n",
      "272        Cristian Villagra \n",
      "283           Rafael Delgado \n",
      "286              Lucas Licht \n",
      "287          Facundo Sánchez \n",
      "289           Israel Damonte \n",
      "291            Sergio Vittor \n",
      "294      Fernando Barrientos \n",
      "296       Santiago Ascacibar \n",
      "298           Agustín Farías \n",
      "Name: name, dtype: object\n"
     ]
    }
   ],
   "source": [
    "print(c3['name'])"
   ]
  },
  {
   "cell_type": "code",
   "execution_count": 13,
   "metadata": {
    "collapsed": false,
    "scrolled": true
   },
   "outputs": [
    {
     "data": {
      "text/plain": [
       "Crossing               7.534908\n",
       "Finishing             -2.429963\n",
       "Heading Accuracy       3.575934\n",
       "Short Passing          6.923223\n",
       "Volleys               -1.650916\n",
       "Dribbling              4.985165\n",
       "Curve                  4.615092\n",
       "Free Kick Accuracy     5.166264\n",
       "Long Passing           8.642527\n",
       "Ball Control           5.213919\n",
       "Acceleration           2.660623\n",
       "Sprint Speed           2.522527\n",
       "Agility                1.459121\n",
       "Reactions              1.784286\n",
       "Balance                2.490806\n",
       "Shot Power             6.384872\n",
       "Jumping                3.001685\n",
       "Stamina               10.355238\n",
       "Strength               2.314542\n",
       "Long Shots             7.083297\n",
       "Aggression            12.188718\n",
       "Interceptions         21.652564\n",
       "Positioning            2.731941\n",
       "Vision                 3.862674\n",
       "Penalties              0.227253\n",
       "Composure              3.033077\n",
       "Marking               22.920220\n",
       "Standing Tackle       23.320513\n",
       "Sliding Tackle        23.419341\n",
       "GK Diving             -5.626264\n",
       "GK Handling           -5.145788\n",
       "GK Kicking            -5.324249\n",
       "GK Positioning        -5.477326\n",
       "GK Reflexes           -5.981429\n",
       "dtype: float64"
      ]
     },
     "execution_count": 13,
     "metadata": {},
     "output_type": "execute_result"
    }
   ],
   "source": [
    "c3.mean()-dfX.mean()"
   ]
  },
  {
   "cell_type": "markdown",
   "metadata": {},
   "source": [
    "Players in this cluster have very high Tackling, Marking and Interception scores. Their other scores are also rather average. Their positions are usually varied, from midfielders to fullbacks and a few central defenders. We assume that this cluster is comprised of players playing in the midfield position, potentially in the central defensive midfield due to the high ratings in the defensive departments. The averages in the defensive attributes might be inflated however due to the inclusion of fullbacks, which share a lot of attributes that are also relevant in the central defensive midfield position. Since several Central attacking midfielders are included in the cluster as well, we thus conclude that the cluster is mainly comprised of all types of central midfielders, despite the inclusion of a few fullbacks and centre defenders."
   ]
  },
  {
   "cell_type": "markdown",
   "metadata": {},
   "source": [
    "### Centre Defense Cluster [4]"
   ]
  },
  {
   "cell_type": "code",
   "execution_count": 14,
   "metadata": {
    "collapsed": false,
    "scrolled": true
   },
   "outputs": [
    {
     "name": "stdout",
     "output_type": "stream",
     "text": [
      "14       Gonzalo Rodríguez \n",
      "24          Federico Fazio \n",
      "25          Gustavo Cabral \n",
      "29      Federico Fernández \n",
      "30          Lisandro López \n",
      "41           Víctor Cuesta \n",
      "46       Martín Demichelis \n",
      "52     Santiago Gentiletti \n",
      "63        Nicolás Burdisso \n",
      "66      Nicolás Tagliafico \n",
      "69         Germán Pezzella \n",
      "88         Jonatan Maidana \n",
      "93        Santiago Vergini \n",
      "107         Matías Caruzzo \n",
      "110          Luciano Lollo \n",
      "111        Emiliano Rigoni \n",
      "112       Martín Mantovani \n",
      "121       Jonathan Schunke \n",
      "126         Nicolás Spolli \n",
      "136        Marcos Angeleri \n",
      "138         Renato Civelli \n",
      "144       Juan Insaurralde \n",
      "147      Carlos Izquierdoz \n",
      "151        Matías Zaldivia \n",
      "158     José María Basanta \n",
      "165       Leandro Desábato \n",
      "168       Maximiliano Meza \n",
      "174            Juan Forlin \n",
      "177         Fernando Tobio \n",
      "181     Guillermo Burdisso \n",
      "186            Daniel Díaz \n",
      "194           Germán Conti \n",
      "202         Ezequiel Muñoz \n",
      "208        Javier Gandolfi \n",
      "211        Emanuel Mammana \n",
      "224          Ezequiel Luna \n",
      "225         Germán Voboril \n",
      "236        Diego Braghieri \n",
      "238       Lucas Albertengo \n",
      "245        Nicolás Sánchez \n",
      "257          Germán Lanaro \n",
      "260      Alexander Barboza \n",
      "262        Guido Rodríguez \n",
      "268    Jonathan Bottinelli \n",
      "274            Jorge Figal \n",
      "278         Pablo Alvarado \n",
      "279        Hugo Campagnaro \n",
      "284        Diego Novaretti \n",
      "288          Diego Colotto \n",
      "295      Marco Torsiglieri \n",
      "Name: name, dtype: object\n"
     ]
    }
   ],
   "source": [
    "print(c4['name'])"
   ]
  },
  {
   "cell_type": "code",
   "execution_count": 15,
   "metadata": {
    "collapsed": false,
    "scrolled": true
   },
   "outputs": [
    {
     "data": {
      "text/plain": [
       "Crossing             -13.423333\n",
       "Finishing            -20.166667\n",
       "Heading Accuracy      12.590000\n",
       "Short Passing         -5.886667\n",
       "Volleys              -16.913333\n",
       "Dribbling            -16.570000\n",
       "Curve                -15.266667\n",
       "Free Kick Accuracy   -15.770000\n",
       "Long Passing          -4.490000\n",
       "Ball Control          -8.773333\n",
       "Acceleration         -12.943333\n",
       "Sprint Speed          -9.650000\n",
       "Agility              -16.860000\n",
       "Reactions             -4.670000\n",
       "Balance              -16.796667\n",
       "Shot Power           -12.736667\n",
       "Jumping                0.033333\n",
       "Stamina               -6.273333\n",
       "Strength              10.603333\n",
       "Long Shots           -22.780000\n",
       "Aggression            11.753333\n",
       "Interceptions         19.123333\n",
       "Positioning          -20.013333\n",
       "Vision               -19.456667\n",
       "Penalties            -10.440000\n",
       "Composure             -2.050000\n",
       "Marking               24.480000\n",
       "Standing Tackle       22.766667\n",
       "Sliding Tackle        21.080000\n",
       "GK Diving             -5.930000\n",
       "GK Handling           -6.106667\n",
       "GK Kicking            -5.366667\n",
       "GK Positioning        -5.536667\n",
       "GK Reflexes           -5.270000\n",
       "dtype: float64"
      ]
     },
     "execution_count": 15,
     "metadata": {},
     "output_type": "execute_result"
    }
   ],
   "source": [
    "c4.mean()-dfX.mean()"
   ]
  },
  {
   "cell_type": "markdown",
   "metadata": {},
   "source": [
    "Players in this cluster have a high Marking and Tackling score. Unlike Cluster3, we find that they have very poor Finishing and Free Kick Accuracy scores, and below average sprint speed and acceleration. This is thus likely a cluster of Central Defenders."
   ]
  },
  {
   "cell_type": "markdown",
   "metadata": {},
   "source": [
    "### Striker Cluster [5]"
   ]
  },
  {
   "cell_type": "code",
   "execution_count": 16,
   "metadata": {
    "collapsed": false
   },
   "outputs": [
    {
     "name": "stdout",
     "output_type": "stream",
     "text": [
      "1          Gonzalo Higuaín \n",
      "9             Mauro Icardi \n",
      "45            Lucas Alario \n",
      "55             Marco Ruben \n",
      "59          Nicolás Blandi \n",
      "61         Darío Benedetto \n",
      "62             Gustavo Bou \n",
      "78           Mauro Boselli \n",
      "95         Franco Di Santo \n",
      "99        Jonathan Calleri \n",
      "105       Mauro Dos Santos \n",
      "117          Silvio Romero \n",
      "119          Emiliano Sala \n",
      "125      Maximiliano López \n",
      "139       Facundo Ferreyra \n",
      "142      Sebastián Driussi \n",
      "152            Julio Furch \n",
      "156           Lucas Viatri \n",
      "157         Guido Carrillo \n",
      "164              José Sand \n",
      "167       Enrique Triverio \n",
      "171     Juan Ignacio Gomez \n",
      "172         Leonardo Ulloa \n",
      "180            Franco Jara \n",
      "185       Giovanni Simeone \n",
      "188         Sebastián Leto \n",
      "191     Juan Martín Lucero \n",
      "192            Mauro Matos \n",
      "195       Gastón Fernández \n",
      "207           Germán Denis \n",
      "214        Milton Caraglio \n",
      "215           Diego Churín \n",
      "221    Denis Stracqualursi \n",
      "239         Mariano Pavone \n",
      "242         Ezequiel Ponce \n",
      "267        Darío Cvitanich \n",
      "269          Claudio Riaño \n",
      "271          Ismael Blanco \n",
      "275      Gonzalo Bergessio \n",
      "276         Martín Benítez \n",
      "280        Pablo Chavarría \n",
      "281      Jonatan Cristaldo \n",
      "282           Lucas Melano \n",
      "Name: name, dtype: object\n"
     ]
    }
   ],
   "source": [
    "print(c5['name'])"
   ]
  },
  {
   "cell_type": "code",
   "execution_count": 17,
   "metadata": {
    "collapsed": false,
    "scrolled": true
   },
   "outputs": [
    {
     "data": {
      "text/plain": [
       "Crossing              -1.339612\n",
       "Finishing             21.226822\n",
       "Heading Accuracy      14.347209\n",
       "Short Passing          1.022636\n",
       "Volleys               16.487597\n",
       "Dribbling              6.661628\n",
       "Curve                  1.443101\n",
       "Free Kick Accuracy    -1.360698\n",
       "Long Passing          -5.248605\n",
       "Ball Control           6.931783\n",
       "Acceleration           0.430620\n",
       "Sprint Speed           0.375581\n",
       "Agility                1.138140\n",
       "Reactions              0.209535\n",
       "Balance               -1.338992\n",
       "Shot Power            10.760543\n",
       "Jumping                4.911473\n",
       "Stamina                0.089457\n",
       "Strength               6.174496\n",
       "Long Shots             8.473023\n",
       "Aggression            -5.868527\n",
       "Interceptions        -22.488760\n",
       "Positioning           17.681085\n",
       "Vision                -0.982713\n",
       "Penalties             12.270698\n",
       "Composure              3.528605\n",
       "Marking              -23.929767\n",
       "Standing Tackle      -23.577519\n",
       "Sliding Tackle       -23.449302\n",
       "GK Diving             -5.517907\n",
       "GK Handling           -4.406202\n",
       "GK Kicking            -5.534574\n",
       "GK Positioning        -5.555271\n",
       "GK Reflexes           -6.084419\n",
       "dtype: float64"
      ]
     },
     "execution_count": 17,
     "metadata": {},
     "output_type": "execute_result"
    }
   ],
   "source": [
    "c5.mean()-dfX.mean()"
   ]
  },
  {
   "cell_type": "markdown",
   "metadata": {},
   "source": [
    "These players have exceptional Volley and Finishing scores. Based on their low scores in Marking and Tackling, it is likely that these players are strikers. The vision of the players contained in this cluster is also below average, which differnciates it from the centre forward cluster."
   ]
  },
  {
   "cell_type": "markdown",
   "metadata": {},
   "source": [
    "## 6. Prediction of new point"
   ]
  },
  {
   "cell_type": "markdown",
   "metadata": {},
   "source": [
    "To assign a new player based on the attributes into a cluster, we first retreive the centroids of the existing 5 clusters.\n",
    "\n",
    "We then input the attributes of the new player:\n",
    "\n",
    "Crossing     | 45\n",
    "\n",
    "Sprint Speed | 40\n",
    "\n",
    "Long Shots   | 35\n",
    "\n",
    "Aggression   | 45\n",
    "\n",
    "Marking      | 60\n",
    "\n",
    "Finishing    | 40\n",
    "\n",
    "GK_Handling  | 15\n",
    "\n",
    "We find the index of the appropriate columns in our dataframe and find the equivalent attributes of the centroids.\n",
    "\n",
    "For our new point, we calculate the Euclidian distance for the player to each one of the available centroids, classifying him into the closest cluster, the one with minimum distance."
   ]
  },
  {
   "cell_type": "code",
   "execution_count": 18,
   "metadata": {
    "collapsed": false
   },
   "outputs": [
    {
     "data": {
      "text/plain": [
       "4"
      ]
     },
     "execution_count": 18,
     "metadata": {},
     "output_type": "execute_result"
    }
   ],
   "source": [
    "centroid = football.cluster_centers_\n",
    "\n",
    "newPoint = [45,40,40,35,45,60,15]\n",
    "\n",
    "var = set(['Crossing','Finishing','Sprint Speed','Long Shots','Aggression','Marking','GK Handling'])\n",
    "\n",
    "varLocations = [i for i,x in enumerate(list(df)) if x in var]\n",
    "centroidSub = [x[varLocations] for x in centroid]\n",
    "\n",
    "distances = [np.linalg.norm(x-newPoint) for x in centroidSub]\n",
    "distances.index(min(distances))+1"
   ]
  },
  {
   "cell_type": "markdown",
   "metadata": {},
   "source": [
    "We group the new point into Cluster 4 (Defense), this player is likely a Defender."
   ]
  }
 ],
 "metadata": {
  "kernelspec": {
   "display_name": "Python 3",
   "language": "python",
   "name": "python3"
  },
  "language_info": {
   "codemirror_mode": {
    "name": "ipython",
    "version": 3
   },
   "file_extension": ".py",
   "mimetype": "text/x-python",
   "name": "python",
   "nbconvert_exporter": "python",
   "pygments_lexer": "ipython3",
   "version": "3.5.1"
  }
 },
 "nbformat": 4,
 "nbformat_minor": 0
}

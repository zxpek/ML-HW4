{
 "cells": [
  {
   "cell_type": "markdown",
   "metadata": {},
   "source": [
    "# Machine Learning\n",
    "## Group 4\n",
    "## Assignment 4\n",
    "## K-means clustering\n"
   ]
  },
  {
   "cell_type": "markdown",
   "metadata": {},
   "source": [
    "## 2. Web scraping"
   ]
  },
  {
   "cell_type": "code",
   "execution_count": 1,
   "metadata": {
    "collapsed": false
   },
   "outputs": [],
   "source": [
    "import pandas as pd\n",
    "from bs4 import BeautifulSoup\n",
    "import requests\n",
    "import re\n",
    "import unicodedata\n",
    "\n",
    "from sklearn.cluster import KMeans\n",
    "import numpy as np"
   ]
  },
  {
   "cell_type": "code",
   "execution_count": 34,
   "metadata": {
    "collapsed": false
   },
   "outputs": [],
   "source": [
    "attributes = ['Crossing', 'Finishing', 'Heading Accuracy', 'Short Passing', 'Volleys', 'Dribbling', 'Curve', 'Free Kick Accuracy',\n",
    "              'Long Passing','Ball Control', 'Acceleration', 'Sprint Speed', 'Agility', 'Reactions', 'Balance', 'Shot Power','Jumping',\n",
    "              'Stamina', 'Strength','Long Shots','Aggression','Interceptions','Positioning','Vision','Penalties','Composure','Marking',\n",
    "              'Standing Tackle','Sliding Tackle','GK Diving','GK Handling', 'GK Kicking','GK Positioning','GK Reflexes']\n",
    "\n",
    "              \n",
    "links = []\n",
    "for offset in ['0','100','200']:\n",
    "    page = requests.get('http://sofifa.com/players?na=52&offset=' + offset)\n",
    "    soup = BeautifulSoup(page.content,'html.parser')\n",
    "    for link in soup.find_all('a'):\n",
    "        links.append(link.get('href'))\n",
    "           \n",
    "links = ['http://sofifa.com' + l for l in links if 'player/' in l]\n",
    "\n",
    "pattern = r\"\"\"\\s*([\\w\\s]*)\"\"\"\n",
    "\n",
    "for attr in attributes:\n",
    "    pattern += r\"\"\".*?(\\d*\\s*\"\"\"+attr+r\"\"\")\"\"\" #Attribute variables\n",
    "    \n",
    "pat = re.compile(pattern, re.DOTALL)\n",
    "\n",
    "rows = []\n",
    "for j,link in enumerate(links):\n",
    "    row = [link]\n",
    "    playerpage = requests.get(link)\n",
    "    playersoup = BeautifulSoup(playerpage.content, 'html.parser')\n",
    "    text = playersoup.get_text()\n",
    "    a = pat.match(text)\n",
    "    row.append(a.group(1))\n",
    "    for i in range(2,len(attributes)+2):\n",
    "        row.append(int(a.group(i).split()[0]))\n",
    "    rows.append(row)\n",
    "df = pd.DataFrame(rows,columns =['link','name'] + attributes)\n",
    "df.to_csv('ArgentinaPlayers.csv',index=False)"
   ]
  },
  {
   "cell_type": "markdown",
   "metadata": {},
   "source": [
    "The code above scrapes the FIFA attributes for the top 300 Argentinian players on the sofifa.com website.\n",
    "\n",
    "The code starts by defining each of the 34 attributes that characterize each player in the FIFA game. These attributes range from Passing and Dribbling to Tackling and Strength. Each player in the game is represented by a combination of the above attributes.\n",
    "\n",
    "We then wish to store the links to the top 300 rated players for a specific country. The website stores the players groups of 100s. For each group of 100 players, we request all of the html content on the page. The html content on the page that links to each specific player contains a string \"a\" which is the HTML tag. For each of the \"a\" tags, we append to the links list the html's href tag. The href tag may contains the player's unique ID identifier. For example, Leonel Messi's player ID is 158023. We filter the href tags to only contain those that have the string \"player\" in them. These tags correspond to each player's personal page which will list their attributes. \n",
    "\n",
    "For each string that contains a player, we create a URL with the link to that player's page by concatenating the href tag with http://sofifa.com. By accessing the concatenated URL, we can scrape each player's game attribues. We can do this by noticing that the attributes are embedded in a specific Regular Express (regex) style.  Through the specific regex, we can extract the player's attributes because they all follow a specific pattern. The first part of the regex extracts the player's name, and the subsequent parts correspond to the regex to identify where the attributes are located in the HTML file.\n",
    "\n",
    "We iterate through each of the player links we created prior. For each link, we parse through the resulting html file using the BeautifulSoup function. By using the get_text() function, we extract only the text elements of the web page. Finally, from the resulting text, we match the regex pattern we defined earlier to extract the portions of the text that follow the regex. By extracting the regex style expressions from the text, we have each player's attributes in the first portion of the regex. We append each attribute to the player's data. \n",
    "\n",
    "Because many of our players have non English names, their names may contain characters that are not ASCII. The larger subset of characters, called Unicode, needs to be displayed properly when extracting the player's name. Fortunately the HTML and the beautiful soup package support Unicode characters through the get_text and html.parser functions. Therefore, when we extract the player names, they are already in the proper Unicode format and we have to make no further changes. \n",
    "\n",
    "Finally, we have each player's attributes as a list inside a list with all of the player data. We convert the list into a pandas dataframe with each player as a row. The columns are the player's URL to access the data, the player's name, and then all of the attributes defined at the start. We will use this dataframe as a way to cluster our players because the input into the kMeans function can be a pandas dataframe. Finally, we output the resulting data into a csv file."
   ]
  },
  {
   "cell_type": "markdown",
   "metadata": {},
   "source": [
    "## 3. 500 English players\n",
    "\n",
    "To download the first 500 English players instead of the first 300 Argentinian players, we need to modify the code in two places. \n",
    "\n",
    "First we need to modify the code to parse players from a different country. As we noticed above, Argentina's country code on the sofifa.com website is na=52. We change this value to na=14, which corresponds to England's players. \n",
    "\n",
    "We also need to modify the number of players parsed, from 300 to 500. This is done by modifying the first for loop into the code. We change the list of the offset from ['0','100','200'] to ['0','100','200','300','400']. This adds 2 more pages of 100 players for the code to search through. The code returns the data for the first 500 English players with these two modifications.\n",
    "\n",
    "The new code is shown below.\n"
   ]
  },
  {
   "cell_type": "code",
   "execution_count": 35,
   "metadata": {
    "collapsed": false
   },
   "outputs": [],
   "source": [
    "## NEW CODE IS THIS FOR LOOP!\n",
    "# for offset in ['0','100','200','300','400']:\n",
    "#    page = requests.get('http://sofifa.com/players?na=14&offset=' + offset)\n",
    "#    soup = BeautifulSoup(page.content,'html.parser')\n",
    "#    for link in soup.find_all('a'):\n",
    "#        links.append(link.get('href'))\n"
   ]
  },
  {
   "cell_type": "markdown",
   "metadata": {},
   "source": [
    "## 4. Training the model"
   ]
  },
  {
   "cell_type": "code",
   "execution_count": 36,
   "metadata": {
    "collapsed": false
   },
   "outputs": [],
   "source": [
    "#Drop link and name from variables to train on\n",
    "dfX = df.drop(['link','name'],axis=1)\n",
    "\n",
    "#Train the model\n",
    "football = KMeans(n_clusters=5,random_state=12345).fit(dfX)"
   ]
  },
  {
   "cell_type": "markdown",
   "metadata": {},
   "source": [
    "## 5. Labelling the clusters"
   ]
  },
  {
   "cell_type": "code",
   "execution_count": 37,
   "metadata": {
    "collapsed": false
   },
   "outputs": [],
   "source": [
    "labels = football.labels_\n",
    "\n",
    "#Extracting players into their respective clusters\n",
    "c1 = df.ix[labels==0,]\n",
    "c2 = df.ix[labels==1,]\n",
    "c3 = df.ix[labels==2,]\n",
    "c4 = df.ix[labels==3,]\n",
    "c5 = df.ix[labels==4,]"
   ]
  },
  {
   "cell_type": "markdown",
   "metadata": {},
   "source": [
    "### Cluster 1"
   ]
  },
  {
   "cell_type": "code",
   "execution_count": 38,
   "metadata": {
    "collapsed": false
   },
   "outputs": [
    {
     "name": "stdout",
     "output_type": "stream",
     "text": [
      "0                 Lionel Messi \n",
      "2                Sergio Agüero \n",
      "3               Ángel Di María \n",
      "4                 Paulo Dybala \n",
      "5               Nicolás Gaitán \n",
      "10              Javier Pastore \n",
      "20                 Erik Lamela \n",
      "21             Alejandro Gómez \n",
      "23               Diego Perotti \n",
      "26          Fernando Belluschi \n",
      "28              Eduardo Salvio \n",
      "31              Manuel Lanzini \n",
      "33              Luciano Vietto \n",
      "34               Pablo Batalla \n",
      "35              Lisandro López \n",
      "38             Rodrigo Palacio \n",
      "39                Ángel Correa \n",
      "40              Ignacio Piatti \n",
      "42                   José Sosa \n",
      "50                Diego Valeri \n",
      "51                Pablo Piatti \n",
      "56            Diego Buonanotte \n",
      "58          Rogelio Funes Mori \n",
      "60             Pablo De Blasis \n",
      "70                Franco Cervi \n",
      "71                Mauro Zárate \n",
      "73              Lautaro Acosta \n",
      "74            Sebastián Blanco \n",
      "79                 Ismael Sosa \n",
      "80       Alexander Szymanowski \n",
      "                 ...           \n",
      "194           Gastón Fernández \n",
      "195               Ricardo Noir \n",
      "198             Ignacio Scocco \n",
      "206             Gabriel Hauche \n",
      "209            Fabián Sambueza \n",
      "210           Pablo Barrientos \n",
      "213           Maximiliano Meza \n",
      "217               Lucas Janson \n",
      "218            Daniel Villalva \n",
      "220            Hernán Hechalar \n",
      "226              Hernán Toledo \n",
      "228          Juan Sánchez Miño \n",
      "232           Federico Carrizo \n",
      "237               Martín Rolle \n",
      "240             Gervasio Núñez \n",
      "241                 Omar Pérez \n",
      "246    Luis Gonzalo Bustamante \n",
      "247              Gonzalo Verón \n",
      "249     Cristian Omar Espinoza \n",
      "251        José Luis Fernández \n",
      "252           Nicolás Martínez \n",
      "256              Mauro Formica \n",
      "263              Rodrigo Gómez \n",
      "264             Claudio Aquino \n",
      "274             Walter Montoya \n",
      "282              Matías Pisano \n",
      "288            Brian Fernández \n",
      "291              Carlos Auzqui \n",
      "295            Leonardo Suárez \n",
      "297            Facundo Pereyra \n",
      "Name: name, dtype: object\n"
     ]
    }
   ],
   "source": [
    "print(c1['name'])"
   ]
  },
  {
   "cell_type": "markdown",
   "metadata": {},
   "source": [
    "### Cluster 2"
   ]
  },
  {
   "cell_type": "code",
   "execution_count": 39,
   "metadata": {
    "collapsed": false
   },
   "outputs": [
    {
     "name": "stdout",
     "output_type": "stream",
     "text": [
      "11           Gerónimo Rulli \n",
      "32            Sergio Romero \n",
      "37         Marcelo Barovero \n",
      "43            Nahuel Guzmán \n",
      "44          Willy Caballero \n",
      "53        Sebastián Torrico \n",
      "54        Agustín Marchesín \n",
      "64          Mariano Andújar \n",
      "66            Franco Armani \n",
      "83            Agustín Orión \n",
      "105         Mariano Barbosa \n",
      "108        Fernando Monetti \n",
      "123              Germán Lux \n",
      "126         Albano Bizzarri \n",
      "147      Juan Pablo Carrizo \n",
      "162    Cristian Campestrini \n",
      "174          Guillermo Sara \n",
      "183        Luciano Pocrnjic \n",
      "192             Rodrigo Rey \n",
      "203             Marcos Díaz \n",
      "215           Javier García \n",
      "229             Jorge Broun \n",
      "235            Oscar Ustari \n",
      "243          Julián Speroni \n",
      "253            Luis Ardente \n",
      "290         Nereo Fernández \n",
      "Name: name, dtype: object\n"
     ]
    }
   ],
   "source": [
    "print(c2['name'])"
   ]
  },
  {
   "cell_type": "markdown",
   "metadata": {},
   "source": [
    "### Cluster 3"
   ]
  },
  {
   "cell_type": "code",
   "execution_count": 40,
   "metadata": {
    "collapsed": false
   },
   "outputs": [
    {
     "name": "stdout",
     "output_type": "stream",
     "text": [
      "7                Éver Banega \n",
      "8          Javier Mascherano \n",
      "12               Marcos Rojo \n",
      "13           Mateo Musacchio \n",
      "15            Ezequiel Garay \n",
      "16            Pablo Zabaleta \n",
      "17              Lucas Biglia \n",
      "18         Augusto Fernández \n",
      "19           Roberto Pereyra \n",
      "22             Claudio Yacob \n",
      "27          Cristian Ansaldi \n",
      "36            Nicolás Pareja \n",
      "47             Guido Pizarro \n",
      "48              Marcos Acuña \n",
      "49                Enzo Pérez \n",
      "57             David Abraham \n",
      "65               Pablo Pérez \n",
      "67              Lucas Castro \n",
      "69           Leandro Paredes \n",
      "75         Esteban Cambiasso \n",
      "76              Gino Peruzzi \n",
      "77             Fernando Gago \n",
      "81         Facundo Roncaglia \n",
      "82              Emmanuel Mas \n",
      "84        Matías Kranevitter \n",
      "87               Óscar Trejo \n",
      "89         Ramiro Funes Mori \n",
      "90         Gonzalo Escalante \n",
      "96           Leonardo Ponzio \n",
      "97        Nicolás Tagliafico \n",
      "                ...          \n",
      "214             Juan Mercier \n",
      "216              Jorge Ortiz \n",
      "221            Valentin Vada \n",
      "224    Maximiliano Velázquez \n",
      "225             Damián Musto \n",
      "227             Andrés Cubas \n",
      "230          Nicolás Domingo \n",
      "231      Sebastián Dubarbier \n",
      "233             Hernán Grana \n",
      "238           Jonathan Silva \n",
      "244             Marcelo Meli \n",
      "248        Alejandro Faurlín \n",
      "250          Matías Fritzler \n",
      "254       Cristian Pellerano \n",
      "257           Fabián Rinaudo \n",
      "259              Iván Pillud \n",
      "261            Pablo Álvarez \n",
      "262          Francisco Cerro \n",
      "269        Cristian Villagra \n",
      "270          Ramón Fernández \n",
      "280           Rafael Delgado \n",
      "283              Lucas Licht \n",
      "284          Facundo Sánchez \n",
      "286           Israel Damonte \n",
      "289            Sergio Vittor \n",
      "292      Fernando Barrientos \n",
      "294       Santiago Ascacibar \n",
      "296           Agustín Farías \n",
      "298              Ariel Rojas \n",
      "299            Federico Vega \n",
      "Name: name, dtype: object\n"
     ]
    }
   ],
   "source": [
    "print(c3['name'])"
   ]
  },
  {
   "cell_type": "markdown",
   "metadata": {},
   "source": [
    "### Cluster 4"
   ]
  },
  {
   "cell_type": "code",
   "execution_count": 41,
   "metadata": {
    "collapsed": false
   },
   "outputs": [
    {
     "name": "stdout",
     "output_type": "stream",
     "text": [
      "6           Nicolás Otamendi \n",
      "14         Gonzalo Rodríguez \n",
      "24            Federico Fazio \n",
      "25            Gustavo Cabral \n",
      "29        Federico Fernández \n",
      "30            Lisandro López \n",
      "41             Víctor Cuesta \n",
      "46         Martín Demichelis \n",
      "52       Santiago Gentiletti \n",
      "63          Nicolás Burdisso \n",
      "68           Germán Pezzella \n",
      "72          Mauro Dos Santos \n",
      "88           Jonatan Maidana \n",
      "93          Santiago Vergini \n",
      "106           Matías Caruzzo \n",
      "109            Luciano Lollo \n",
      "111         Martín Mantovani \n",
      "113    Julio Alberto Barroso \n",
      "120         Jonathan Schunke \n",
      "125           Nicolás Spolli \n",
      "135          Marcos Angeleri \n",
      "137           Renato Civelli \n",
      "143         Juan Insaurralde \n",
      "146        Carlos Izquierdoz \n",
      "150          Matías Zaldivia \n",
      "157       José María Basanta \n",
      "164         Leandro Desábato \n",
      "173              Juan Forlin \n",
      "176           Fernando Tobio \n",
      "180       Guillermo Burdisso \n",
      "185              Daniel Díaz \n",
      "193             Germán Conti \n",
      "200           Ezequiel Muñoz \n",
      "205          Javier Gandolfi \n",
      "208          Emanuel Mammana \n",
      "222            Ezequiel Luna \n",
      "223           Germán Voboril \n",
      "234          Diego Braghieri \n",
      "242          Nicolás Sánchez \n",
      "245         Nicolás Gorosito \n",
      "255            Germán Lanaro \n",
      "258        Alexander Barboza \n",
      "260          Guido Rodríguez \n",
      "266      Jonathan Bottinelli \n",
      "271              Jorge Figal \n",
      "275           Pablo Alvarado \n",
      "276          Hugo Campagnaro \n",
      "281          Diego Novaretti \n",
      "285            Diego Colotto \n",
      "293        Marco Torsiglieri \n",
      "Name: name, dtype: object\n"
     ]
    }
   ],
   "source": [
    "print(c4['name'])"
   ]
  },
  {
   "cell_type": "markdown",
   "metadata": {},
   "source": [
    "### Cluster 5"
   ]
  },
  {
   "cell_type": "code",
   "execution_count": 42,
   "metadata": {
    "collapsed": false
   },
   "outputs": [
    {
     "name": "stdout",
     "output_type": "stream",
     "text": [
      "1          Gonzalo Higuaín \n",
      "9             Mauro Icardi \n",
      "45            Lucas Alario \n",
      "55             Marco Ruben \n",
      "59          Nicolás Blandi \n",
      "61         Darío Benedetto \n",
      "62             Gustavo Bou \n",
      "78           Mauro Boselli \n",
      "95         Franco Di Santo \n",
      "100       Jonathan Calleri \n",
      "116          Silvio Romero \n",
      "118          Emiliano Sala \n",
      "124      Maximiliano López \n",
      "138       Facundo Ferreyra \n",
      "141      Sebastián Driussi \n",
      "151            Julio Furch \n",
      "155           Lucas Viatri \n",
      "156         Guido Carrillo \n",
      "163              José Sand \n",
      "165           Germán Denis \n",
      "167       Enrique Triverio \n",
      "170     Juan Ignacio Gomez \n",
      "171         Leonardo Ulloa \n",
      "179            Franco Jara \n",
      "184       Giovanni Simeone \n",
      "187         Sebastián Leto \n",
      "190     Juan Martín Lucero \n",
      "191            Mauro Matos \n",
      "211        Milton Caraglio \n",
      "212           Diego Churín \n",
      "219    Denis Stracqualursi \n",
      "236         Mariano Pavone \n",
      "239         Ezequiel Ponce \n",
      "265        Darío Cvitanich \n",
      "267          Claudio Riaño \n",
      "268          Ismael Blanco \n",
      "272      Gonzalo Bergessio \n",
      "273         Martín Benítez \n",
      "277        Pablo Chavarría \n",
      "278      Jonatan Cristaldo \n",
      "279           Lucas Melano \n",
      "287       Lucas Albertengo \n",
      "Name: name, dtype: object\n"
     ]
    }
   ],
   "source": [
    "print(c5['name'])"
   ]
  },
  {
   "cell_type": "markdown",
   "metadata": {},
   "source": [
    "## 6. Prediction of new point"
   ]
  },
  {
   "cell_type": "markdown",
   "metadata": {},
   "source": [
    "To assign a new player based on the attributes into a cluster, we first retreive the centroids of the existing 5 clusters.\n",
    "\n",
    "We then input the attributes of the new player:\n",
    "\n",
    "Crossing     | 45\n",
    "\n",
    "Sprint Speed | 40\n",
    "\n",
    "Long Shots   | 35\n",
    "\n",
    "Aggression   | 45\n",
    "\n",
    "Marking      | 60\n",
    "\n",
    "Finishing    | 40\n",
    "\n",
    "GK_Handling  | 15\n",
    "\n",
    "We find the index of the appropriate columns in our dataframe and find the equivalent attributes of the centroids.\n",
    "\n",
    "For our new point, we calculate the Euclidian distance for the player to each one of the available centroids, classifying him into the closest cluster, the one with minimum distance."
   ]
  },
  {
   "cell_type": "code",
   "execution_count": 43,
   "metadata": {
    "collapsed": false
   },
   "outputs": [
    {
     "data": {
      "text/plain": [
       "1"
      ]
     },
     "execution_count": 43,
     "metadata": {},
     "output_type": "execute_result"
    }
   ],
   "source": [
    "centroid = football.cluster_centers_\n",
    "\n",
    "newPoint = [45,40,40,35,45,60,15]\n",
    "\n",
    "var = set(['Crossing','Finishing','Sprint Speed','Long Shots','Aggression','Marking','GK Handling'])\n",
    "\n",
    "varLocations = [i for i,x in enumerate(list(df)) if x in var]\n",
    "centroidSub = [x[varLocations] for x in centroid]\n",
    "\n",
    "distances = [np.linalg.norm(x-newPoint) for x in centroidSub]\n",
    "distances.index(min(distances))+1"
   ]
  },
  {
   "cell_type": "markdown",
   "metadata": {},
   "source": [
    "We group the new point into Cluster 1."
   ]
  }
 ],
 "metadata": {
  "kernelspec": {
   "display_name": "Python 3",
   "language": "python",
   "name": "python3"
  },
  "language_info": {
   "codemirror_mode": {
    "name": "ipython",
    "version": 3
   },
   "file_extension": ".py",
   "mimetype": "text/x-python",
   "name": "python",
   "nbconvert_exporter": "python",
   "pygments_lexer": "ipython3",
   "version": "3.5.2"
  }
 },
 "nbformat": 4,
 "nbformat_minor": 0
}
